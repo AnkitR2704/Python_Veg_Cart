{
 "cells": [
  {
   "cell_type": "code",
   "execution_count": null,
   "id": "8ced7187-57fe-4062-a2d9-9fc51c721670",
   "metadata": {},
   "outputs": [
    {
     "name": "stdout",
     "output_type": "stream",
     "text": [
      "********** WELCOME **********\n",
      "-----------------------------\n"
     ]
    },
    {
     "name": "stdin",
     "output_type": "stream",
     "text": [
      "ARE YOU A OWNER (or) A USER (owner/user) / Exit(press exit): user\n"
     ]
    },
    {
     "name": "stdout",
     "output_type": "stream",
     "text": [
      "\n",
      "\n",
      "What do you want to do....\n",
      "1.Add Cart(press 1)\n",
      "2.Remove Cart(press 2)\n",
      "3.Modify Cart(press 3)\n",
      "4.View Cart(press 4)\n",
      "5.Billing(press 5)\n",
      "6.Exit(press 6)\n",
      "\n"
     ]
    },
    {
     "name": "stdin",
     "output_type": "stream",
     "text": [
      "Choose one option: 1\n"
     ]
    },
    {
     "name": "stdout",
     "output_type": "stream",
     "text": [
      "Vegetables present in shop are:['Potato', 'Tomato']\n"
     ]
    },
    {
     "name": "stdin",
     "output_type": "stream",
     "text": [
      "Enter vegtable name you want to add in the cart: Potato\n",
      "Enter the quantity (in kgs). 4\n"
     ]
    },
    {
     "name": "stdout",
     "output_type": "stream",
     "text": [
      "Potato is added in the cart.\n",
      "\n",
      "What do you want to do....\n",
      "1.Add Cart(press 1)\n",
      "2.Remove Cart(press 2)\n",
      "3.Modify Cart(press 3)\n",
      "4.View Cart(press 4)\n",
      "5.Billing(press 5)\n",
      "6.Exit(press 6)\n",
      "\n"
     ]
    },
    {
     "name": "stdin",
     "output_type": "stream",
     "text": [
      "Choose one option: 3\n",
      "Enter the name of vegtable: Potato\n",
      "Enter the new Quantity: 6\n"
     ]
    },
    {
     "name": "stdout",
     "output_type": "stream",
     "text": [
      "Successfully updated the quantity to 6.0 kg\n",
      "\n",
      "What do you want to do....\n",
      "1.Add Cart(press 1)\n",
      "2.Remove Cart(press 2)\n",
      "3.Modify Cart(press 3)\n",
      "4.View Cart(press 4)\n",
      "5.Billing(press 5)\n",
      "6.Exit(press 6)\n",
      "\n"
     ]
    },
    {
     "name": "stdin",
     "output_type": "stream",
     "text": [
      "Choose one option: 4\n"
     ]
    },
    {
     "name": "stdout",
     "output_type": "stream",
     "text": [
      "Viewing items present in the cart\n",
      "( VEGETABLE NAME , QUANTITY (in Kgs))\n",
      "('Potato', 6.0)\n",
      "\n",
      "What do you want to do....\n",
      "1.Add Cart(press 1)\n",
      "2.Remove Cart(press 2)\n",
      "3.Modify Cart(press 3)\n",
      "4.View Cart(press 4)\n",
      "5.Billing(press 5)\n",
      "6.Exit(press 6)\n",
      "\n"
     ]
    },
    {
     "name": "stdin",
     "output_type": "stream",
     "text": [
      "Choose one option: 5\n"
     ]
    },
    {
     "name": "stdout",
     "output_type": "stream",
     "text": [
      "Please Give the following Details...\n",
      "\n"
     ]
    },
    {
     "name": "stdin",
     "output_type": "stream",
     "text": [
      "Enter Your Name: Ankit\n",
      "Enter Your phone number: 7569576433\n"
     ]
    },
    {
     "name": "stdout",
     "output_type": "stream",
     "text": [
      "Potato is Rs.20/kg\n",
      "Total Price of Potato for 6.0 kg is Rs.120.0\n",
      "Please Pay Rs.120.0\n",
      "\n",
      "Payment is successful Mr./Mrs Ankit\n",
      "Total Amount Paid: Rs.120.0\n",
      "Your e-bill will be forwarded to your contanct +91-7569576433\n",
      "\n",
      "What do you want to do....\n",
      "1.Add Cart(press 1)\n",
      "2.Remove Cart(press 2)\n",
      "3.Modify Cart(press 3)\n",
      "4.View Cart(press 4)\n",
      "5.Billing(press 5)\n",
      "6.Exit(press 6)\n",
      "\n"
     ]
    },
    {
     "name": "stdin",
     "output_type": "stream",
     "text": [
      "Choose one option: 6\n"
     ]
    },
    {
     "name": "stdout",
     "output_type": "stream",
     "text": [
      "Thank You:)\n",
      "Please Visit Again!\n"
     ]
    },
    {
     "name": "stdin",
     "output_type": "stream",
     "text": [
      "ARE YOU A OWNER (or) A USER (owner/user) / Exit(press exit): owner\n"
     ]
    },
    {
     "name": "stdout",
     "output_type": "stream",
     "text": [
      "\n",
      "1.Edit Inventory(press 1)\n",
      "2.View Inventory(press 2)\n",
      "3.View Users Details(press 3)\n",
      "4.View Report(press 4)\n",
      "5.Total Revenue and Itemized Profit(press 5)\n",
      "6.Exit(press 6)\n",
      "\n"
     ]
    },
    {
     "name": "stdin",
     "output_type": "stream",
     "text": [
      "Choose one option: 3\n"
     ]
    },
    {
     "name": "stdout",
     "output_type": "stream",
     "text": [
      "\n",
      "Name:Ankit\n",
      "Phone number: +91-7569576433\n",
      "Total Payment: Rs.120.0\n",
      "\n",
      "1.Edit Inventory(press 1)\n",
      "2.View Inventory(press 2)\n",
      "3.View Users Details(press 3)\n",
      "4.View Report(press 4)\n",
      "5.Total Revenue and Itemized Profit(press 5)\n",
      "6.Exit(press 6)\n",
      "\n"
     ]
    },
    {
     "name": "stdin",
     "output_type": "stream",
     "text": [
      "Choose one option: 4\n"
     ]
    },
    {
     "name": "stdout",
     "output_type": "stream",
     "text": [
      "********** REPORT **********\n",
      "\n",
      "-----Quantity Available-----\n",
      "( Vegetable Name , Quantity(in Kgs) )\n",
      "('Potato', 6.0)\n",
      "('Tomato', 15.0)\n",
      "\n",
      "-----Quantity Sold-----\n",
      "Vegetable name - Vegetable quantity(in kgs)\n",
      "Potato - 14.0 kgs\n",
      "Tomato - 0.0 kgs\n",
      "\n",
      "1.Edit Inventory(press 1)\n",
      "2.View Inventory(press 2)\n",
      "3.View Users Details(press 3)\n",
      "4.View Report(press 4)\n",
      "5.Total Revenue and Itemized Profit(press 5)\n",
      "6.Exit(press 6)\n",
      "\n"
     ]
    },
    {
     "name": "stdin",
     "output_type": "stream",
     "text": [
      "Choose one option: 5\n"
     ]
    },
    {
     "name": "stdout",
     "output_type": "stream",
     "text": [
      "-----Total Revenue-----\n",
      "Potato ->Rs. 280.0\n",
      "Potato Quantity sold 14.0 kgs\n",
      "\n",
      "Tomato ->Rs. 0.0\n",
      "Tomato Quantity sold 0.0 kgs\n",
      "\n",
      "Total Revenue is Rs. 120.0\n",
      "\n",
      "-----Itemized Profit-----\n",
      "Profit in Potato is Rs.42.0\n",
      "Profit in Tomato is Rs.0.0\n",
      "\n",
      "1.Edit Inventory(press 1)\n",
      "2.View Inventory(press 2)\n",
      "3.View Users Details(press 3)\n",
      "4.View Report(press 4)\n",
      "5.Total Revenue and Itemized Profit(press 5)\n",
      "6.Exit(press 6)\n",
      "\n"
     ]
    }
   ],
   "source": [
    "veg=['Potato','Tomato']\n",
    "qty=[20.0,15.0]\n",
    "price=[20,18]\n",
    "c_price=[17,15] \n",
    "qty_cpy=qty[:]\n",
    "names=[]\n",
    "mobs=[]\n",
    "total=[]\n",
    "print(10*'*','WELCOME',10*'*')\n",
    "print(29*'-')\n",
    "while True:\n",
    "    view=input('ARE YOU A OWNER (or) A USER (owner/user) / Exit(press exit):')\n",
    "    print()\n",
    "    if view=='owner':\n",
    "        while True:   \n",
    "            print('1.Edit Inventory(press 1)')\n",
    "            print('2.View Inventory(press 2)')\n",
    "            print('3.View Users Details(press 3)')\n",
    "            print('4.View Report(press 4)')\n",
    "            print('5.Total Revenue and Itemized Profit(press 5)')\n",
    "            print('6.Exit(press 6)')\n",
    "            print()\n",
    "            ch1=int(input(\"Choose one option:\"))\n",
    "            if ch1==1:\n",
    "                print('What would you want to do:')\n",
    "                print('1.Add Vegetables (press 1)')\n",
    "                print('2.Remove Vegetables (press 2)')\n",
    "                print('3.Modify the quantity (or) price (press 3)')\n",
    "                ch2=int(input('Choose one option:'))\n",
    "                if ch2==1:#adding of vegs\n",
    "                    print(\"Vegetables available:\",veg)\n",
    "                    veg_name=input('Enter vegtable Name:')\n",
    "                    if veg_name in veg:\n",
    "                        print(f'{veg_name} is already available.')\n",
    "                    else:  \n",
    "                        veg.append(veg_name)\n",
    "                        veg_qty=float(input(f'Enter {veg_name} quantity (in Kgs):'))\n",
    "                        qty.append(veg_qty)\n",
    "                        veg_price=int(input(f'Enter price of {veg_name} (in Rs):'))\n",
    "                        price.append(veg_price)\n",
    "                        C_price=int(input(f'Enter Cost price of {veg_name} (in Rs):'))\n",
    "                        c_price.append(C_price)\n",
    "                        print()\n",
    "                        print(f'{veg_qty} kgs of {veg_name} is added with price Rs.{veg_price}/kg.')\n",
    "                        print()\n",
    "                \n",
    "                \n",
    "                elif ch2==2:#removing of vegs\n",
    "                    print(\"Vegetables available:\",veg)\n",
    "                    veg_name=input('Enter vegetable Name:')\n",
    "                    if veg_name not in veg:\n",
    "                        print(f'{veg_name} is not available.')\n",
    "                    else:\n",
    "                        idx=veg.index(veg_name)\n",
    "                        veg.remove(veg_name)\n",
    "                        qty.remove(qty[idx])\n",
    "                        price.remove(price[idx])\n",
    "                        c_price.remove(c_price[idx])\n",
    "                        print(f'{veg_name} is removed.')\n",
    "                elif ch2==3:#modifying qty or price\n",
    "                    name=input('Enter the Vegetable name:')\n",
    "                    if name in veg:\n",
    "                        idx=veg.index(name)\n",
    "                        print('1.Modify the quantity(press 1)')\n",
    "                        print('2.Modify the price(press) 2')\n",
    "                        ch3=int(input('Choose one option:'))\n",
    "                        if ch3==1:#modifying the qty\n",
    "                            qty1=float(input('Enter new quantity(in Kgs):'))\n",
    "                            qty[idx]=qty1\n",
    "                            print(f'Quantity of {name} is successfully changed to {qty1} kgs')\n",
    "                        elif ch3==2:#modifying the price\n",
    "                            price1=int(input('Enter the new Price(in Rs):'))\n",
    "                            price[idx]=price1\n",
    "                            print(f'Price of {name} is successfully changes to Rs.{price1}')\n",
    "                    else:\n",
    "                        print('Vegetable is not available')    \n",
    "                else:\n",
    "                     print('Invalid Option')\n",
    "            elif ch1==2:\n",
    "                print('Welcome to Inventory Section')\n",
    "                print('( Vegetable Name , Quantity(in kgs))')\n",
    "                for i in zip(veg,qty):\n",
    "                    print(i)\n",
    "                print()\n",
    "            elif ch1==3:\n",
    "                size=len(names)\n",
    "                for i in range(0,size):\n",
    "                    print()\n",
    "                    if names==[]:\n",
    "                        print('No User details are present.')\n",
    "                    else:\n",
    "                        print(f'Name:{names[i]}')\n",
    "                        print(f'Phone number: +91-{mobs[i]}')\n",
    "                        print(f'Total Payment: Rs.{total[i]}')\n",
    "                    print()\n",
    "            elif ch1==4:\n",
    "                print(10*'*','REPORT',10*'*')\n",
    "                print()\n",
    "                print('-----Quantity Available-----')\n",
    "                print('( Vegetable Name , Quantity(in Kgs) )')\n",
    "                for i in zip(veg,qty):\n",
    "                    print(i)\n",
    "                print()\n",
    "                print('-----Quantity Sold-----')\n",
    "                print('Vegetable name - Vegetable quantity(in kgs)')\n",
    "                for i in range(0,len(veg)):\n",
    "                    print(f'{veg[i]} - {qty_cpy[i]-qty[i]} kgs' )\n",
    "                print()\n",
    "            elif ch1==5:#total revenue and itemized profit\n",
    "                print(\"-----Total Revenue-----\")\n",
    "                for i in range(0,len(qty)):\n",
    "                    print(veg[i],'->Rs.',(qty_cpy[i]-qty[i])*price[i])\n",
    "                    print(veg[i],'Quantity sold',(qty_cpy[i]-qty[i]),'kgs')\n",
    "                    print() \n",
    "                print('Total Revenue is Rs.',sum(total))\n",
    "                print()\n",
    "                print('-----Itemized Profit-----')\n",
    "                for i in range(0,len(price)):\n",
    "                    print(f'Profit in {veg[i]} is Rs.{(qty_cpy[i]-qty[i])*(price[i]-c_price[i])}')\n",
    "                print()\n",
    "            elif ch1==6:\n",
    "                print('Closing shopkeeper view')\n",
    "                break\n",
    "            else:\n",
    "                print('Choose correct option.')\n",
    "    elif view=='user':\n",
    "        cart=[]\n",
    "        c_qty=[]\n",
    "        while True:\n",
    "            print()\n",
    "            print('What do you want to do....')\n",
    "            print('1.Add Cart(press 1)')\n",
    "            print('2.Remove Cart(press 2)')\n",
    "            print('3.Modify Cart(press 3)')\n",
    "            print('4.View Cart(press 4)')\n",
    "            print('5.Billing(press 5)')\n",
    "            print('6.Exit(press 6)')\n",
    "            print()\n",
    "            opt1=int(input('Choose one option:'))\n",
    "            if opt1==1:\n",
    "                print('Vegetables present in shop are:',end='')\n",
    "                print(veg)\n",
    "                name=input('Enter vegtable name you want to add in the cart:')\n",
    "                if name not in veg:\n",
    "                    print(f'Sorry! {name} is not available')\n",
    "                else:\n",
    "                    if name in cart:\n",
    "                        print('Already Added in the cart')\n",
    "                    else:\n",
    "                        cart.append(name)\n",
    "                        idx=veg.index(name)\n",
    "                        quan=float(input('Enter the quantity (in kgs).'))\n",
    "                        c_qty.append(quan)\n",
    "                        qty[idx]=qty[idx] - quan\n",
    "                        print(f'{name} is added in the cart.')\n",
    "            elif opt1==2:\n",
    "                name=input('Enter vegtable name you want to remove from the cart:')\n",
    "                if name not in cart:\n",
    "                    print('Not available in the cart')\n",
    "                else:\n",
    "                    idx1=cart.index(name)\n",
    "                    idx2=veg.index(name)\n",
    "                    cart.remove(name)\n",
    "                    qty[idx2]=qty[idx2]+c_qty[idx1]\n",
    "                    c_qty.remove(c_qty[idx1])\n",
    "                    \n",
    "                    print(f'{name} is removed from the cart.')\n",
    "            elif opt1==3:\n",
    "                peru=input('Enter the name of vegtable:')\n",
    "                if peru in cart:\n",
    "                    N_idx=cart.index(peru)\n",
    "                    n_quan=float(input('Enter the new Quantity:'))\n",
    "                    upd_qty=n_quan-c_qty[N_idx]\n",
    "                    idx2=veg.index(peru)\n",
    "                    qty[idx2]=n_quan\n",
    "                    c_qty[N_idx]=n_quan\n",
    "                    print(f'Successfully updated the quantity to {n_quan} kg')\n",
    "                else:\n",
    "                    print('Vegetable is unavailable')    \n",
    "            elif opt1==4:\n",
    "                print('Viewing items present in the cart')\n",
    "                print('( VEGETABLE NAME , QUANTITY (in Kgs))')\n",
    "                if cart==[]:\n",
    "                    print('No Vegetable is added')\n",
    "                else:\n",
    "                    for i in zip(cart,c_qty):\n",
    "                        print(i)\n",
    "            elif opt1==5:\n",
    "                \n",
    "                print('Please Give the following Details...')\n",
    "                print()\n",
    "                name=input('Enter Your Name:')\n",
    "                names.append(name)\n",
    "                mob=int(input('Enter Your phone number:'))\n",
    "                mobs.append(mob)\n",
    "                s=0\n",
    "                for i in cart:\n",
    "                    idx=veg.index(i)\n",
    "                    print(f'{i} is Rs.{price[idx]}/kg')\n",
    "                    print(f'Total Price of {i} for {c_qty[cart.index(i)]} kg is Rs.{c_qty[cart.index(i)]*price[idx]}')\n",
    "                    s=c_qty[cart.index(i)]*price[idx]+s\n",
    "                print(f'Please Pay Rs.{s}')\n",
    "                total.append(s)\n",
    "                print()\n",
    "                print(f'Payment is successful Mr./Mrs {name}')\n",
    "                print(f'Total Amount Paid: Rs.{s}')\n",
    "                print(f'Your e-bill will be forwarded to your contanct +91-{mob}')\n",
    "            elif opt1==6:\n",
    "                print('Thank You:)')\n",
    "                print('Please Visit Again!')\n",
    "                break\n",
    "            else:\n",
    "                print('Invalid option')\n",
    "    elif view=='exit':\n",
    "        break\n",
    "    else:\n",
    "        print('Give valid input')  "
   ]
  },
  {
   "cell_type": "code",
   "execution_count": null,
   "id": "48604724-cf94-4b39-9dfd-3d0593b5bf0a",
   "metadata": {},
   "outputs": [],
   "source": []
  },
  {
   "cell_type": "code",
   "execution_count": null,
   "id": "2f441353-e72a-45d9-9659-2faaecde451d",
   "metadata": {},
   "outputs": [],
   "source": []
  }
 ],
 "metadata": {
  "kernelspec": {
   "display_name": "Python 3 (ipykernel)",
   "language": "python",
   "name": "python3"
  },
  "language_info": {
   "codemirror_mode": {
    "name": "ipython",
    "version": 3
   },
   "file_extension": ".py",
   "mimetype": "text/x-python",
   "name": "python",
   "nbconvert_exporter": "python",
   "pygments_lexer": "ipython3",
   "version": "3.12.7"
  }
 },
 "nbformat": 4,
 "nbformat_minor": 5
}
